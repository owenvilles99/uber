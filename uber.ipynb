{
 "cells": [
  {
   "cell_type": "code",
   "execution_count": 1,
   "id": "ab66f9d2",
   "metadata": {},
   "outputs": [
    {
     "data": {
      "text/plain": [
       "'C:\\\\Users\\\\user'"
      ]
     },
     "execution_count": 1,
     "metadata": {},
     "output_type": "execute_result"
    }
   ],
   "source": [
    "pwd"
   ]
  },
  {
   "cell_type": "code",
   "execution_count": 2,
   "id": "381f378b",
   "metadata": {},
   "outputs": [],
   "source": [
    "import pandas as pd"
   ]
  },
  {
   "cell_type": "code",
   "execution_count": 3,
   "id": "a232baa9",
   "metadata": {},
   "outputs": [],
   "source": [
    "import numpy as np"
   ]
  },
  {
   "cell_type": "code",
   "execution_count": 4,
   "id": "402518eb",
   "metadata": {},
   "outputs": [],
   "source": [
    "import seaborn as sms"
   ]
  },
  {
   "cell_type": "code",
   "execution_count": null,
   "id": "4dc133ec",
   "metadata": {},
   "outputs": [],
   "source": [
    "import calendar"
   ]
  },
  {
   "cell_type": "code",
   "execution_count": 5,
   "id": "5116c7d9",
   "metadata": {},
   "outputs": [],
   "source": [
    "import datetime"
   ]
  },
  {
   "cell_type": "code",
   "execution_count": 6,
   "id": "c320554e",
   "metadata": {},
   "outputs": [],
   "source": [
    "import matplotlib.pyplot as plt"
   ]
  },
  {
   "cell_type": "code",
   "execution_count": 7,
   "id": "fd34ac47",
   "metadata": {},
   "outputs": [],
   "source": [
    "import matplotlib"
   ]
  },
  {
   "cell_type": "code",
   "execution_count": 9,
   "id": "fa97b336",
   "metadata": {},
   "outputs": [],
   "source": [
    "uber_data=pd.read_csv('Uber_data.csv')"
   ]
  },
  {
   "cell_type": "code",
   "execution_count": 10,
   "id": "2d29cbd8",
   "metadata": {},
   "outputs": [
    {
     "data": {
      "text/html": [
       "<div>\n",
       "<style scoped>\n",
       "    .dataframe tbody tr th:only-of-type {\n",
       "        vertical-align: middle;\n",
       "    }\n",
       "\n",
       "    .dataframe tbody tr th {\n",
       "        vertical-align: top;\n",
       "    }\n",
       "\n",
       "    .dataframe thead th {\n",
       "        text-align: right;\n",
       "    }\n",
       "</style>\n",
       "<table border=\"1\" class=\"dataframe\">\n",
       "  <thead>\n",
       "    <tr style=\"text-align: right;\">\n",
       "      <th></th>\n",
       "      <th>Start_date</th>\n",
       "      <th>Start_day</th>\n",
       "      <th>Start_time</th>\n",
       "      <th>SHour</th>\n",
       "      <th>End_date</th>\n",
       "      <th>End_day</th>\n",
       "      <th>End_time</th>\n",
       "      <th>Duration</th>\n",
       "      <th>Category</th>\n",
       "      <th>Pickup</th>\n",
       "      <th>Destination</th>\n",
       "      <th>KM</th>\n",
       "      <th>Purpose</th>\n",
       "      <th>Driver_Rating</th>\n",
       "      <th>Fare</th>\n",
       "      <th>Tip</th>\n",
       "      <th>Payment_Method</th>\n",
       "      <th>Status</th>\n",
       "    </tr>\n",
       "  </thead>\n",
       "  <tbody>\n",
       "    <tr>\n",
       "      <th>0</th>\n",
       "      <td>27-Jul-16</td>\n",
       "      <td>Wednesday</td>\n",
       "      <td>21:11:00</td>\n",
       "      <td>21</td>\n",
       "      <td>27-Jul-16</td>\n",
       "      <td>Wednesday</td>\n",
       "      <td>21:17:00</td>\n",
       "      <td>00:06:00</td>\n",
       "      <td>Business</td>\n",
       "      <td>Fort Pierce</td>\n",
       "      <td>Fort Pierce</td>\n",
       "      <td>5.1</td>\n",
       "      <td>Meal/Entertain</td>\n",
       "      <td>4.0</td>\n",
       "      <td>198.3</td>\n",
       "      <td>NaN</td>\n",
       "      <td>UPI/e-Wallet</td>\n",
       "      <td>Completed</td>\n",
       "    </tr>\n",
       "    <tr>\n",
       "      <th>1</th>\n",
       "      <td>21-Sep-16</td>\n",
       "      <td>Wednesday</td>\n",
       "      <td>01:25:00</td>\n",
       "      <td>1</td>\n",
       "      <td>21-Sep-16</td>\n",
       "      <td>Wednesday</td>\n",
       "      <td>01:37:00</td>\n",
       "      <td>00:12:00</td>\n",
       "      <td>NaN</td>\n",
       "      <td>Fort Pierce</td>\n",
       "      <td>Fort Pierce</td>\n",
       "      <td>5.0</td>\n",
       "      <td>NaN</td>\n",
       "      <td>5.0</td>\n",
       "      <td>195.0</td>\n",
       "      <td>10.0</td>\n",
       "      <td>Cash</td>\n",
       "      <td>Completed</td>\n",
       "    </tr>\n",
       "    <tr>\n",
       "      <th>2</th>\n",
       "      <td>27-Nov-16</td>\n",
       "      <td>Sunday</td>\n",
       "      <td>20:25:00</td>\n",
       "      <td>20</td>\n",
       "      <td>27-Nov-16</td>\n",
       "      <td>Sunday</td>\n",
       "      <td>20:38:00</td>\n",
       "      <td>00:13:00</td>\n",
       "      <td>NaN</td>\n",
       "      <td>Fort Pierce</td>\n",
       "      <td>Fort Pierce</td>\n",
       "      <td>4.8</td>\n",
       "      <td>Errand/Supplies</td>\n",
       "      <td>NaN</td>\n",
       "      <td>188.4</td>\n",
       "      <td>18.0</td>\n",
       "      <td>UPI/e-Wallet</td>\n",
       "      <td>Completed</td>\n",
       "    </tr>\n",
       "    <tr>\n",
       "      <th>3</th>\n",
       "      <td>18-Dec-16</td>\n",
       "      <td>Sunday</td>\n",
       "      <td>17:31:00</td>\n",
       "      <td>17</td>\n",
       "      <td>18-Dec-16</td>\n",
       "      <td>Sunday</td>\n",
       "      <td>17:45:00</td>\n",
       "      <td>00:14:00</td>\n",
       "      <td>NaN</td>\n",
       "      <td>Fort Pierce</td>\n",
       "      <td>Fort Pierce</td>\n",
       "      <td>4.7</td>\n",
       "      <td>Meeting</td>\n",
       "      <td>3.0</td>\n",
       "      <td>185.1</td>\n",
       "      <td>18.0</td>\n",
       "      <td>Cash</td>\n",
       "      <td>Completed</td>\n",
       "    </tr>\n",
       "    <tr>\n",
       "      <th>4</th>\n",
       "      <td>05-Apr-16</td>\n",
       "      <td>Tuesday</td>\n",
       "      <td>14:42:00</td>\n",
       "      <td>14</td>\n",
       "      <td>05-Apr-16</td>\n",
       "      <td>Tuesday</td>\n",
       "      <td>15:49:00</td>\n",
       "      <td>01:07:00</td>\n",
       "      <td>NaN</td>\n",
       "      <td>Fort Pierce</td>\n",
       "      <td>West Palm Beach</td>\n",
       "      <td>63.7</td>\n",
       "      <td>Customer Visit</td>\n",
       "      <td>3.0</td>\n",
       "      <td>2132.1</td>\n",
       "      <td>NaN</td>\n",
       "      <td>Card</td>\n",
       "      <td>Completed</td>\n",
       "    </tr>\n",
       "  </tbody>\n",
       "</table>\n",
       "</div>"
      ],
      "text/plain": [
       "  Start_date  Start_day Start_time  SHour   End_date    End_day  End_time  \\\n",
       "0  27-Jul-16  Wednesday   21:11:00     21  27-Jul-16  Wednesday  21:17:00   \n",
       "1  21-Sep-16  Wednesday   01:25:00      1  21-Sep-16  Wednesday  01:37:00   \n",
       "2  27-Nov-16     Sunday   20:25:00     20  27-Nov-16     Sunday  20:38:00   \n",
       "3  18-Dec-16     Sunday   17:31:00     17  18-Dec-16     Sunday  17:45:00   \n",
       "4  05-Apr-16    Tuesday   14:42:00     14  05-Apr-16    Tuesday  15:49:00   \n",
       "\n",
       "   Duration  Category       Pickup      Destination    KM          Purpose  \\\n",
       "0  00:06:00  Business  Fort Pierce      Fort Pierce   5.1   Meal/Entertain   \n",
       "1  00:12:00       NaN  Fort Pierce      Fort Pierce   5.0              NaN   \n",
       "2  00:13:00       NaN  Fort Pierce      Fort Pierce   4.8  Errand/Supplies   \n",
       "3  00:14:00       NaN  Fort Pierce      Fort Pierce   4.7          Meeting   \n",
       "4  01:07:00       NaN  Fort Pierce  West Palm Beach  63.7   Customer Visit   \n",
       "\n",
       "   Driver_Rating    Fare   Tip Payment_Method     Status  \n",
       "0            4.0   198.3   NaN   UPI/e-Wallet  Completed  \n",
       "1            5.0   195.0  10.0           Cash  Completed  \n",
       "2            NaN   188.4  18.0   UPI/e-Wallet  Completed  \n",
       "3            3.0   185.1  18.0           Cash  Completed  \n",
       "4            3.0  2132.1   NaN           Card  Completed  "
      ]
     },
     "execution_count": 10,
     "metadata": {},
     "output_type": "execute_result"
    }
   ],
   "source": [
    "uber_data.head()"
   ]
  },
  {
   "cell_type": "code",
   "execution_count": 11,
   "id": "9905c199",
   "metadata": {},
   "outputs": [
    {
     "name": "stdout",
     "output_type": "stream",
     "text": [
      "<class 'pandas.core.frame.DataFrame'>\n",
      "RangeIndex: 1155 entries, 0 to 1154\n",
      "Data columns (total 18 columns):\n",
      " #   Column          Non-Null Count  Dtype  \n",
      "---  ------          --------------  -----  \n",
      " 0   Start_date      1155 non-null   object \n",
      " 1   Start_day       1155 non-null   object \n",
      " 2   Start_time      1155 non-null   object \n",
      " 3   SHour           1155 non-null   int64  \n",
      " 4   End_date        1155 non-null   object \n",
      " 5   End_day         1155 non-null   object \n",
      " 6   End_time        1155 non-null   object \n",
      " 7   Duration        1155 non-null   object \n",
      " 8   Category        1083 non-null   object \n",
      " 9   Pickup          1155 non-null   object \n",
      " 10  Destination     1155 non-null   object \n",
      " 11  KM              1155 non-null   float64\n",
      " 12  Purpose         653 non-null    object \n",
      " 13  Driver_Rating   1084 non-null   float64\n",
      " 14  Fare            1155 non-null   float64\n",
      " 15  Tip             1041 non-null   float64\n",
      " 16  Payment_Method  1155 non-null   object \n",
      " 17  Status          1155 non-null   object \n",
      "dtypes: float64(4), int64(1), object(13)\n",
      "memory usage: 162.5+ KB\n"
     ]
    }
   ],
   "source": [
    "uber_data.info()"
   ]
  },
  {
   "cell_type": "code",
   "execution_count": 12,
   "id": "e8dd4aec",
   "metadata": {},
   "outputs": [
    {
     "data": {
      "text/html": [
       "<div>\n",
       "<style scoped>\n",
       "    .dataframe tbody tr th:only-of-type {\n",
       "        vertical-align: middle;\n",
       "    }\n",
       "\n",
       "    .dataframe tbody tr th {\n",
       "        vertical-align: top;\n",
       "    }\n",
       "\n",
       "    .dataframe thead th {\n",
       "        text-align: right;\n",
       "    }\n",
       "</style>\n",
       "<table border=\"1\" class=\"dataframe\">\n",
       "  <thead>\n",
       "    <tr style=\"text-align: right;\">\n",
       "      <th></th>\n",
       "      <th>SHour</th>\n",
       "      <th>KM</th>\n",
       "      <th>Driver_Rating</th>\n",
       "      <th>Fare</th>\n",
       "      <th>Tip</th>\n",
       "    </tr>\n",
       "  </thead>\n",
       "  <tbody>\n",
       "    <tr>\n",
       "      <th>count</th>\n",
       "      <td>1155.000000</td>\n",
       "      <td>1155.000000</td>\n",
       "      <td>1084.000000</td>\n",
       "      <td>1155.000000</td>\n",
       "      <td>1041.000000</td>\n",
       "    </tr>\n",
       "    <tr>\n",
       "      <th>mean</th>\n",
       "      <td>14.677922</td>\n",
       "      <td>10.566840</td>\n",
       "      <td>2.475092</td>\n",
       "      <td>378.705714</td>\n",
       "      <td>27.547550</td>\n",
       "    </tr>\n",
       "    <tr>\n",
       "      <th>std</th>\n",
       "      <td>4.583917</td>\n",
       "      <td>21.579106</td>\n",
       "      <td>1.712570</td>\n",
       "      <td>712.110485</td>\n",
       "      <td>20.575235</td>\n",
       "    </tr>\n",
       "    <tr>\n",
       "      <th>min</th>\n",
       "      <td>0.000000</td>\n",
       "      <td>0.500000</td>\n",
       "      <td>0.000000</td>\n",
       "      <td>46.500000</td>\n",
       "      <td>0.000000</td>\n",
       "    </tr>\n",
       "    <tr>\n",
       "      <th>25%</th>\n",
       "      <td>12.000000</td>\n",
       "      <td>2.900000</td>\n",
       "      <td>1.000000</td>\n",
       "      <td>125.700000</td>\n",
       "      <td>12.000000</td>\n",
       "    </tr>\n",
       "    <tr>\n",
       "      <th>50%</th>\n",
       "      <td>15.000000</td>\n",
       "      <td>6.000000</td>\n",
       "      <td>2.000000</td>\n",
       "      <td>228.000000</td>\n",
       "      <td>22.000000</td>\n",
       "    </tr>\n",
       "    <tr>\n",
       "      <th>75%</th>\n",
       "      <td>18.000000</td>\n",
       "      <td>10.400000</td>\n",
       "      <td>4.000000</td>\n",
       "      <td>373.200000</td>\n",
       "      <td>37.000000</td>\n",
       "    </tr>\n",
       "    <tr>\n",
       "      <th>max</th>\n",
       "      <td>23.000000</td>\n",
       "      <td>310.300000</td>\n",
       "      <td>5.000000</td>\n",
       "      <td>10269.900000</td>\n",
       "      <td>127.000000</td>\n",
       "    </tr>\n",
       "  </tbody>\n",
       "</table>\n",
       "</div>"
      ],
      "text/plain": [
       "             SHour           KM  Driver_Rating          Fare          Tip\n",
       "count  1155.000000  1155.000000    1084.000000   1155.000000  1041.000000\n",
       "mean     14.677922    10.566840       2.475092    378.705714    27.547550\n",
       "std       4.583917    21.579106       1.712570    712.110485    20.575235\n",
       "min       0.000000     0.500000       0.000000     46.500000     0.000000\n",
       "25%      12.000000     2.900000       1.000000    125.700000    12.000000\n",
       "50%      15.000000     6.000000       2.000000    228.000000    22.000000\n",
       "75%      18.000000    10.400000       4.000000    373.200000    37.000000\n",
       "max      23.000000   310.300000       5.000000  10269.900000   127.000000"
      ]
     },
     "execution_count": 12,
     "metadata": {},
     "output_type": "execute_result"
    }
   ],
   "source": [
    "uber_data.describe()"
   ]
  },
  {
   "cell_type": "code",
   "execution_count": 15,
   "id": "56da26ab",
   "metadata": {},
   "outputs": [
    {
     "data": {
      "text/plain": [
       "<AxesSubplot:xlabel='Category', ylabel='count'>"
      ]
     },
     "execution_count": 15,
     "metadata": {},
     "output_type": "execute_result"
    },
    {
     "data": {
      "image/png": "[encoded data removed]",
      "text/plain": [
       "<Figure size 432x288 with 1 Axes>"
      ]
     },
     "metadata": {
      "needs_background": "light"
     },
     "output_type": "display_data"
    }
   ],
   "source": [
    "sms.countplot(x='Category',data=uber_data)"
   ]
  },
  {
   "cell_type": "code",
   "execution_count": 17,
   "id": "5f1b69e0",
   "metadata": {},
   "outputs": [
    {
     "data": {
      "text/plain": [
       "<AxesSubplot:xlabel='Category'>"
      ]
     },
     "execution_count": 17,
     "metadata": {},
     "output_type": "execute_result"
    },
    {
     "data": {
      "image/png": "[encoded data removed]",
      "text/plain": [
       "<Figure size 432x288 with 1 Axes>"
      ]
     },
     "metadata": {
      "needs_background": "light"
     },
     "output_type": "display_data"
    }
   ],
   "source": [
    "sms.scatterplot(x='Category',data=uber_data)"
   ]
  },
  {
   "cell_type": "code",
   "execution_count": 23,
   "id": "d3413df1",
   "metadata": {},
   "outputs": [
    {
     "data": {
      "text/plain": [
       "<AxesSubplot:>"
      ]
     },
     "execution_count": 23,
     "metadata": {},
     "output_type": "execute_result"
    },
    {
     "data": {
      "image/png": "[encoded data removed]",
      "text/plain": [
       "<Figure size 432x288 with 1 Axes>"
      ]
     },
     "metadata": {
      "needs_background": "light"
     },
     "output_type": "display_data"
    }
   ],
   "source": [
    "uber_data.plot()"
   ]
  },
  {
   "cell_type": "code",
   "execution_count": null,
   "id": "74200a4a",
   "metadata": {},
   "outputs": [],
   "source": []
  },
  {
   "cell_type": "code",
   "execution_count": null,
   "id": "ef6837e0",
   "metadata": {},
   "outputs": [],
   "source": []
  }
 ],
 "metadata": {
  "kernelspec": {
   "display_name": "Python 3 (ipykernel)",
   "language": "python",
   "name": "python3"
  },
  "language_info": {
   "codemirror_mode": {
    "name": "ipython",
    "version": 3
   },
   "file_extension": ".py",
   "mimetype": "text/x-python",
   "name": "python",
   "nbconvert_exporter": "python",
   "pygments_lexer": "ipython3",
   "version": "3.9.7"
  }
 },
 "nbformat": 4,
 "nbformat_minor": 5
}
